{
  "nbformat": 4,
  "nbformat_minor": 0,
  "metadata": {
    "colab": {
      "name": "DSCANswerDeepLearning.ipynb",
      "provenance": []
    },
    "kernelspec": {
      "display_name": "Python 3",
      "name": "python3"
    }
  },
  "cells": [
    {
      "cell_type": "code",
      "metadata": {
        "id": "YvizSDenHsce"
      },
      "source": [
        "import pandas as pd\n",
        "import numpy  as np\n",
        "import tensorflow as tf\n",
        "AUTO = tf.data.experimental.AUTOTUNE\n",
        "import tensorflow_addons as tfa\n",
        "from tensorflow.keras.layers import Dense,Dropout\n",
        "from tensorflow.keras.models import Model\n",
        "from tensorflow.keras import Input"
      ],
      "execution_count": 142,
      "outputs": []
    },
    {
      "cell_type": "code",
      "metadata": {
        "colab": {
          "base_uri": "https://localhost:8080/"
        },
        "id": "xM38o1OzIQRY",
        "outputId": "b7499d19-f6f1-45cc-ec8f-a9fa275122eb"
      },
      "source": [
        "from google.colab import drive ; drive.mount(\"/content/drive\")"
      ],
      "execution_count": 143,
      "outputs": [
        {
          "output_type": "stream",
          "text": [
            "Drive already mounted at /content/drive; to attempt to forcibly remount, call drive.mount(\"/content/drive\", force_remount=True).\n"
          ],
          "name": "stdout"
        }
      ]
    },
    {
      "cell_type": "code",
      "metadata": {
        "colab": {
          "base_uri": "https://localhost:8080/",
          "height": 251
        },
        "id": "3qr3GD7wIVVP",
        "outputId": "1f5430d3-8bb0-48e5-9166-6bf3c7a8a153"
      },
      "source": [
        "df = pd.read_csv(\"/content/drive/My Drive/Dataset/train.csv\")\n",
        "df.head()"
      ],
      "execution_count": 287,
      "outputs": [
        {
          "output_type": "execute_result",
          "data": {
            "text/html": [
              "<div>\n",
              "<style scoped>\n",
              "    .dataframe tbody tr th:only-of-type {\n",
              "        vertical-align: middle;\n",
              "    }\n",
              "\n",
              "    .dataframe tbody tr th {\n",
              "        vertical-align: top;\n",
              "    }\n",
              "\n",
              "    .dataframe thead th {\n",
              "        text-align: right;\n",
              "    }\n",
              "</style>\n",
              "<table border=\"1\" class=\"dataframe\">\n",
              "  <thead>\n",
              "    <tr style=\"text-align: right;\">\n",
              "      <th></th>\n",
              "      <th>id_pasien</th>\n",
              "      <th>jenis_kelamin</th>\n",
              "      <th>umur</th>\n",
              "      <th>hipertensi</th>\n",
              "      <th>penyakit_jantung</th>\n",
              "      <th>sudah_menikah</th>\n",
              "      <th>jenis_pekerjaan</th>\n",
              "      <th>jenis_tempat_tinggal</th>\n",
              "      <th>rata2_level_glukosa</th>\n",
              "      <th>bmi</th>\n",
              "      <th>merokok</th>\n",
              "      <th>stroke</th>\n",
              "    </tr>\n",
              "  </thead>\n",
              "  <tbody>\n",
              "    <tr>\n",
              "      <th>0</th>\n",
              "      <td>100000</td>\n",
              "      <td>Laki-laki</td>\n",
              "      <td>43</td>\n",
              "      <td>tidak</td>\n",
              "      <td>tidak</td>\n",
              "      <td>sudah</td>\n",
              "      <td>swasta</td>\n",
              "      <td>Pedesaan</td>\n",
              "      <td>96.39</td>\n",
              "      <td>26.1</td>\n",
              "      <td>mantan perokok</td>\n",
              "      <td>0</td>\n",
              "    </tr>\n",
              "    <tr>\n",
              "      <th>1</th>\n",
              "      <td>100001</td>\n",
              "      <td>Perempuan</td>\n",
              "      <td>58</td>\n",
              "      <td>tidak</td>\n",
              "      <td>tidak</td>\n",
              "      <td>sudah</td>\n",
              "      <td>swasta</td>\n",
              "      <td>Pedesaan</td>\n",
              "      <td>114.07</td>\n",
              "      <td>21.2</td>\n",
              "      <td>tidak</td>\n",
              "      <td>0</td>\n",
              "    </tr>\n",
              "    <tr>\n",
              "      <th>2</th>\n",
              "      <td>100002</td>\n",
              "      <td>Laki-laki</td>\n",
              "      <td>29</td>\n",
              "      <td>tidak</td>\n",
              "      <td>tidak</td>\n",
              "      <td>belum</td>\n",
              "      <td>swasta</td>\n",
              "      <td>Pedesaan</td>\n",
              "      <td>118.96</td>\n",
              "      <td>29.7</td>\n",
              "      <td>tidak</td>\n",
              "      <td>0</td>\n",
              "    </tr>\n",
              "    <tr>\n",
              "      <th>3</th>\n",
              "      <td>100003</td>\n",
              "      <td>Laki-laki</td>\n",
              "      <td>54</td>\n",
              "      <td>tidak</td>\n",
              "      <td>tidak</td>\n",
              "      <td>sudah</td>\n",
              "      <td>Wirausaha</td>\n",
              "      <td>Perkotaan</td>\n",
              "      <td>73.01</td>\n",
              "      <td>27.7</td>\n",
              "      <td>tidak</td>\n",
              "      <td>0</td>\n",
              "    </tr>\n",
              "    <tr>\n",
              "      <th>4</th>\n",
              "      <td>100004</td>\n",
              "      <td>Laki-laki</td>\n",
              "      <td>78</td>\n",
              "      <td>ya</td>\n",
              "      <td>ya</td>\n",
              "      <td>sudah</td>\n",
              "      <td>Wirausaha</td>\n",
              "      <td>Perkotaan</td>\n",
              "      <td>243.82</td>\n",
              "      <td>36.3</td>\n",
              "      <td>mantan perokok</td>\n",
              "      <td>0</td>\n",
              "    </tr>\n",
              "  </tbody>\n",
              "</table>\n",
              "</div>"
            ],
            "text/plain": [
              "   id_pasien jenis_kelamin  umur  ...   bmi         merokok stroke\n",
              "0     100000     Laki-laki    43  ...  26.1  mantan perokok      0\n",
              "1     100001     Perempuan    58  ...  21.2           tidak      0\n",
              "2     100002     Laki-laki    29  ...  29.7           tidak      0\n",
              "3     100003     Laki-laki    54  ...  27.7           tidak      0\n",
              "4     100004     Laki-laki    78  ...  36.3  mantan perokok      0\n",
              "\n",
              "[5 rows x 12 columns]"
            ]
          },
          "metadata": {
            "tags": []
          },
          "execution_count": 287
        }
      ]
    },
    {
      "cell_type": "code",
      "metadata": {
        "colab": {
          "base_uri": "https://localhost:8080/",
          "height": 97
        },
        "id": "KovwZrkQIkgb",
        "outputId": "f869dbc7-7468-45c3-f0af-35870793a665"
      },
      "source": [
        "test = pd.read_csv(\"/content/drive/My Drive/Dataset/data_test.csv\")\n",
        "test.head(1)"
      ],
      "execution_count": 288,
      "outputs": [
        {
          "output_type": "execute_result",
          "data": {
            "text/html": [
              "<div>\n",
              "<style scoped>\n",
              "    .dataframe tbody tr th:only-of-type {\n",
              "        vertical-align: middle;\n",
              "    }\n",
              "\n",
              "    .dataframe tbody tr th {\n",
              "        vertical-align: top;\n",
              "    }\n",
              "\n",
              "    .dataframe thead th {\n",
              "        text-align: right;\n",
              "    }\n",
              "</style>\n",
              "<table border=\"1\" class=\"dataframe\">\n",
              "  <thead>\n",
              "    <tr style=\"text-align: right;\">\n",
              "      <th></th>\n",
              "      <th>id_pasien</th>\n",
              "      <th>jenis_kelamin</th>\n",
              "      <th>umur</th>\n",
              "      <th>hipertensi</th>\n",
              "      <th>penyakit_jantung</th>\n",
              "      <th>sudah_menikah</th>\n",
              "      <th>jenis_pekerjaan</th>\n",
              "      <th>jenis_tempat_tinggal</th>\n",
              "      <th>rata2_level_glukosa</th>\n",
              "      <th>bmi</th>\n",
              "      <th>merokok</th>\n",
              "    </tr>\n",
              "  </thead>\n",
              "  <tbody>\n",
              "    <tr>\n",
              "      <th>0</th>\n",
              "      <td>2000</td>\n",
              "      <td>Laki-laki</td>\n",
              "      <td>24</td>\n",
              "      <td>tidak</td>\n",
              "      <td>tidak</td>\n",
              "      <td>belum</td>\n",
              "      <td>belum bekerja</td>\n",
              "      <td>Perkotaan</td>\n",
              "      <td>83.45</td>\n",
              "      <td>25.3</td>\n",
              "      <td>tidak</td>\n",
              "    </tr>\n",
              "  </tbody>\n",
              "</table>\n",
              "</div>"
            ],
            "text/plain": [
              "   id_pasien jenis_kelamin  umur  ... rata2_level_glukosa   bmi merokok\n",
              "0       2000     Laki-laki    24  ...               83.45  25.3   tidak\n",
              "\n",
              "[1 rows x 11 columns]"
            ]
          },
          "metadata": {
            "tags": []
          },
          "execution_count": 288
        }
      ]
    },
    {
      "cell_type": "code",
      "metadata": {
        "colab": {
          "base_uri": "https://localhost:8080/"
        },
        "id": "1uuzYFqvItxn",
        "outputId": "eaa3f491-8530-48a9-8e04-cd34db56894f"
      },
      "source": [
        "df.isna().sum()"
      ],
      "execution_count": 146,
      "outputs": [
        {
          "output_type": "execute_result",
          "data": {
            "text/plain": [
              "id_pasien               0\n",
              "jenis_kelamin           0\n",
              "umur                    0\n",
              "hipertensi              0\n",
              "penyakit_jantung        0\n",
              "sudah_menikah           0\n",
              "jenis_pekerjaan         0\n",
              "jenis_tempat_tinggal    0\n",
              "rata2_level_glukosa     0\n",
              "bmi                     0\n",
              "merokok                 0\n",
              "stroke                  0\n",
              "dtype: int64"
            ]
          },
          "metadata": {
            "tags": []
          },
          "execution_count": 146
        }
      ]
    },
    {
      "cell_type": "code",
      "metadata": {
        "colab": {
          "base_uri": "https://localhost:8080/",
          "height": 114
        },
        "id": "KIBGC5L1I2kL",
        "outputId": "778ab86f-47e4-4add-8aa5-f657ca505069"
      },
      "source": [
        "df = df[[\"jenis_kelamin\",\"umur\",\"hipertensi\",\"penyakit_jantung\",\"sudah_menikah\",\"jenis_pekerjaan\",\"jenis_tempat_tinggal\",\"rata2_level_glukosa\",\"bmi\",\"merokok\",\"stroke\"]]\n",
        "df.head(1)"
      ],
      "execution_count": 289,
      "outputs": [
        {
          "output_type": "execute_result",
          "data": {
            "text/html": [
              "<div>\n",
              "<style scoped>\n",
              "    .dataframe tbody tr th:only-of-type {\n",
              "        vertical-align: middle;\n",
              "    }\n",
              "\n",
              "    .dataframe tbody tr th {\n",
              "        vertical-align: top;\n",
              "    }\n",
              "\n",
              "    .dataframe thead th {\n",
              "        text-align: right;\n",
              "    }\n",
              "</style>\n",
              "<table border=\"1\" class=\"dataframe\">\n",
              "  <thead>\n",
              "    <tr style=\"text-align: right;\">\n",
              "      <th></th>\n",
              "      <th>jenis_kelamin</th>\n",
              "      <th>umur</th>\n",
              "      <th>hipertensi</th>\n",
              "      <th>penyakit_jantung</th>\n",
              "      <th>sudah_menikah</th>\n",
              "      <th>jenis_pekerjaan</th>\n",
              "      <th>jenis_tempat_tinggal</th>\n",
              "      <th>rata2_level_glukosa</th>\n",
              "      <th>bmi</th>\n",
              "      <th>merokok</th>\n",
              "      <th>stroke</th>\n",
              "    </tr>\n",
              "  </thead>\n",
              "  <tbody>\n",
              "    <tr>\n",
              "      <th>0</th>\n",
              "      <td>Laki-laki</td>\n",
              "      <td>43</td>\n",
              "      <td>tidak</td>\n",
              "      <td>tidak</td>\n",
              "      <td>sudah</td>\n",
              "      <td>swasta</td>\n",
              "      <td>Pedesaan</td>\n",
              "      <td>96.39</td>\n",
              "      <td>26.1</td>\n",
              "      <td>mantan perokok</td>\n",
              "      <td>0</td>\n",
              "    </tr>\n",
              "  </tbody>\n",
              "</table>\n",
              "</div>"
            ],
            "text/plain": [
              "  jenis_kelamin  umur hipertensi  ...   bmi         merokok stroke\n",
              "0     Laki-laki    43      tidak  ...  26.1  mantan perokok      0\n",
              "\n",
              "[1 rows x 11 columns]"
            ]
          },
          "metadata": {
            "tags": []
          },
          "execution_count": 289
        }
      ]
    },
    {
      "cell_type": "code",
      "metadata": {
        "colab": {
          "base_uri": "https://localhost:8080/"
        },
        "id": "jizwaWNlJkSM",
        "outputId": "c2ed1b95-3f19-4490-9670-b08b28f5bd49"
      },
      "source": [
        "df[\"merokok\"].unique()"
      ],
      "execution_count": 148,
      "outputs": [
        {
          "output_type": "execute_result",
          "data": {
            "text/plain": [
              "array(['mantan perokok', 'tidak', 'perokok aktif'], dtype=object)"
            ]
          },
          "metadata": {
            "tags": []
          },
          "execution_count": 148
        }
      ]
    },
    {
      "cell_type": "code",
      "metadata": {
        "id": "jhlMxttfJaux"
      },
      "source": [
        "df[\"hipertensi\"] = df[\"hipertensi\"].replace({\"tidak\":0,\n",
        "                                             \"ya\":1})\n",
        "df[\"penyakit_jantung\"] = df[\"penyakit_jantung\"].replace({\"ya\":1,\"tidak\":0})\n",
        "df[\"sudah_menikah\"] = df[\"sudah_menikah\"].replace({\"sudah\":1,\"belum\":0})\n",
        "#df[\"jenis_kelamin\"] = df[\"jenis_kelamin\"].replace({\"Laki-laki\":0,\"Perempuan\":0})\n",
        "#df[\"jenis_tempat_tinggal\"] = df[\"jenis_tempat_tinggal\"].replace({\"Pedesaan\":1,\"Perkotaan\":2})\n",
        "#df[\"merokok\"] = df[\"merokok\"].replace({\"mantan perokok\":1,\"perokok aktif\":2,\"tidak\":0})\n",
        "test[\"hipertensi\"] = test[\"hipertensi\"].replace({\"tidak\":0,\n",
        "                                             \"ya\":1})\n",
        "test[\"penyakit_jantung\"] = test[\"penyakit_jantung\"].replace({\"ya\":1,\"tidak\":0})\n",
        "test[\"sudah_menikah\"] = test[\"sudah_menikah\"].replace({\"sudah\":1,\"belum\":0})\n",
        "#test[\"jenis_kelamin\"] = test[\"jenis_kelamin\"].replace({\"Laki-laki\":0,\"Perempuan\":0})\n",
        "#test[\"jenis_tempat_tinggal\"] = test[\"jenis_tempat_tinggal\"].replace({\"Pedesaan\":1,\"Perkotaan\":2})\n",
        "#test[\"merokok\"] = test[\"merokok\"].replace({\"mantan perokok\":1,\"perokok aktif\":2,\"tidak\":0})\n",
        "\n"
      ],
      "execution_count": 290,
      "outputs": []
    },
    {
      "cell_type": "code",
      "metadata": {
        "id": "scp4A569LbzA"
      },
      "source": [
        "dummies = pd.get_dummies(df[[\"jenis_pekerjaan\"]])\n",
        "dummiesTest = pd.get_dummies(test[[\"jenis_pekerjaan\"]])"
      ],
      "execution_count": 291,
      "outputs": []
    },
    {
      "cell_type": "code",
      "metadata": {
        "id": "8vFznE_6Kr4D"
      },
      "source": [
        "dummies = pd.get_dummies(df[[\"jenis_kelamin\",\"jenis_pekerjaan\",\"jenis_tempat_tinggal\"]])\n",
        "dummiesTest = pd.get_dummies(test[[\"jenis_kelamin\",\"jenis_pekerjaan\",\"jenis_tempat_tinggal\"]])"
      ],
      "execution_count": 292,
      "outputs": []
    },
    {
      "cell_type": "code",
      "metadata": {
        "id": "Ynq9naxbLtWX"
      },
      "source": [
        "df[dummies.columns] = dummies\n",
        "test[dummiesTest.columns] = dummiesTest\n",
        "df.drop([\"jenis_pekerjaan\"],axis=1,inplace=True)\n",
        "test.drop([\"jenis_pekerjaan\"],axis=1,inplace=True)"
      ],
      "execution_count": 293,
      "outputs": []
    },
    {
      "cell_type": "code",
      "metadata": {
        "id": "pXZm0fzeL6pv",
        "colab": {
          "base_uri": "https://localhost:8080/",
          "height": 131
        },
        "outputId": "f408c653-33a0-4d8c-bef3-812a60f7e4aa"
      },
      "source": [
        "df.head(1)"
      ],
      "execution_count": 294,
      "outputs": [
        {
          "output_type": "execute_result",
          "data": {
            "text/html": [
              "<div>\n",
              "<style scoped>\n",
              "    .dataframe tbody tr th:only-of-type {\n",
              "        vertical-align: middle;\n",
              "    }\n",
              "\n",
              "    .dataframe tbody tr th {\n",
              "        vertical-align: top;\n",
              "    }\n",
              "\n",
              "    .dataframe thead th {\n",
              "        text-align: right;\n",
              "    }\n",
              "</style>\n",
              "<table border=\"1\" class=\"dataframe\">\n",
              "  <thead>\n",
              "    <tr style=\"text-align: right;\">\n",
              "      <th></th>\n",
              "      <th>jenis_kelamin</th>\n",
              "      <th>umur</th>\n",
              "      <th>hipertensi</th>\n",
              "      <th>penyakit_jantung</th>\n",
              "      <th>sudah_menikah</th>\n",
              "      <th>jenis_tempat_tinggal</th>\n",
              "      <th>rata2_level_glukosa</th>\n",
              "      <th>bmi</th>\n",
              "      <th>merokok</th>\n",
              "      <th>stroke</th>\n",
              "      <th>jenis_kelamin_Laki-laki</th>\n",
              "      <th>jenis_kelamin_Perempuan</th>\n",
              "      <th>jenis_pekerjaan_PNS</th>\n",
              "      <th>jenis_pekerjaan_Wirausaha</th>\n",
              "      <th>jenis_pekerjaan_belum bekerja</th>\n",
              "      <th>jenis_pekerjaan_swasta</th>\n",
              "      <th>jenis_tempat_tinggal_Pedesaan</th>\n",
              "      <th>jenis_tempat_tinggal_Perkotaan</th>\n",
              "    </tr>\n",
              "  </thead>\n",
              "  <tbody>\n",
              "    <tr>\n",
              "      <th>0</th>\n",
              "      <td>Laki-laki</td>\n",
              "      <td>43</td>\n",
              "      <td>0</td>\n",
              "      <td>0</td>\n",
              "      <td>1</td>\n",
              "      <td>Pedesaan</td>\n",
              "      <td>96.39</td>\n",
              "      <td>26.1</td>\n",
              "      <td>mantan perokok</td>\n",
              "      <td>0</td>\n",
              "      <td>1</td>\n",
              "      <td>0</td>\n",
              "      <td>0</td>\n",
              "      <td>0</td>\n",
              "      <td>0</td>\n",
              "      <td>1</td>\n",
              "      <td>1</td>\n",
              "      <td>0</td>\n",
              "    </tr>\n",
              "  </tbody>\n",
              "</table>\n",
              "</div>"
            ],
            "text/plain": [
              "  jenis_kelamin  ...  jenis_tempat_tinggal_Perkotaan\n",
              "0     Laki-laki  ...                               0\n",
              "\n",
              "[1 rows x 18 columns]"
            ]
          },
          "metadata": {
            "tags": []
          },
          "execution_count": 294
        }
      ]
    },
    {
      "cell_type": "code",
      "metadata": {
        "id": "16xehCZLL-ln"
      },
      "source": [
        "dummies = pd.get_dummies(df[\"merokok\"],drop_first=True)\n",
        "dummiesTest = pd.get_dummies(test[\"merokok\"],drop_first=True)"
      ],
      "execution_count": 295,
      "outputs": []
    },
    {
      "cell_type": "code",
      "metadata": {
        "id": "LN-EWWh4Mcn4"
      },
      "source": [
        "df[dummies.columns] = dummies\n",
        "test[dummiesTest.columns] = dummiesTest"
      ],
      "execution_count": 296,
      "outputs": []
    },
    {
      "cell_type": "code",
      "metadata": {
        "id": "fCSE95UQMqen"
      },
      "source": [
        "df.drop(\"merokok\",inplace=True,axis=1)\n",
        "test.drop(\"merokok\",inplace=True,axis=1)"
      ],
      "execution_count": 297,
      "outputs": []
    },
    {
      "cell_type": "code",
      "metadata": {
        "colab": {
          "base_uri": "https://localhost:8080/",
          "height": 114
        },
        "id": "yBu99qq1MzGZ",
        "outputId": "7d0362a4-a92d-44fe-8bba-a694957ef4b3"
      },
      "source": [
        "df.head(1)"
      ],
      "execution_count": 298,
      "outputs": [
        {
          "output_type": "execute_result",
          "data": {
            "text/html": [
              "<div>\n",
              "<style scoped>\n",
              "    .dataframe tbody tr th:only-of-type {\n",
              "        vertical-align: middle;\n",
              "    }\n",
              "\n",
              "    .dataframe tbody tr th {\n",
              "        vertical-align: top;\n",
              "    }\n",
              "\n",
              "    .dataframe thead th {\n",
              "        text-align: right;\n",
              "    }\n",
              "</style>\n",
              "<table border=\"1\" class=\"dataframe\">\n",
              "  <thead>\n",
              "    <tr style=\"text-align: right;\">\n",
              "      <th></th>\n",
              "      <th>jenis_kelamin</th>\n",
              "      <th>umur</th>\n",
              "      <th>hipertensi</th>\n",
              "      <th>penyakit_jantung</th>\n",
              "      <th>sudah_menikah</th>\n",
              "      <th>jenis_tempat_tinggal</th>\n",
              "      <th>rata2_level_glukosa</th>\n",
              "      <th>bmi</th>\n",
              "      <th>stroke</th>\n",
              "      <th>jenis_kelamin_Laki-laki</th>\n",
              "      <th>jenis_kelamin_Perempuan</th>\n",
              "      <th>jenis_pekerjaan_PNS</th>\n",
              "      <th>jenis_pekerjaan_Wirausaha</th>\n",
              "      <th>jenis_pekerjaan_belum bekerja</th>\n",
              "      <th>jenis_pekerjaan_swasta</th>\n",
              "      <th>jenis_tempat_tinggal_Pedesaan</th>\n",
              "      <th>jenis_tempat_tinggal_Perkotaan</th>\n",
              "      <th>perokok aktif</th>\n",
              "      <th>tidak</th>\n",
              "    </tr>\n",
              "  </thead>\n",
              "  <tbody>\n",
              "    <tr>\n",
              "      <th>0</th>\n",
              "      <td>Laki-laki</td>\n",
              "      <td>43</td>\n",
              "      <td>0</td>\n",
              "      <td>0</td>\n",
              "      <td>1</td>\n",
              "      <td>Pedesaan</td>\n",
              "      <td>96.39</td>\n",
              "      <td>26.1</td>\n",
              "      <td>0</td>\n",
              "      <td>1</td>\n",
              "      <td>0</td>\n",
              "      <td>0</td>\n",
              "      <td>0</td>\n",
              "      <td>0</td>\n",
              "      <td>1</td>\n",
              "      <td>1</td>\n",
              "      <td>0</td>\n",
              "      <td>0</td>\n",
              "      <td>0</td>\n",
              "    </tr>\n",
              "  </tbody>\n",
              "</table>\n",
              "</div>"
            ],
            "text/plain": [
              "  jenis_kelamin  umur  ...  perokok aktif  tidak\n",
              "0     Laki-laki    43  ...              0      0\n",
              "\n",
              "[1 rows x 19 columns]"
            ]
          },
          "metadata": {
            "tags": []
          },
          "execution_count": 298
        }
      ]
    },
    {
      "cell_type": "code",
      "metadata": {
        "colab": {
          "base_uri": "https://localhost:8080/"
        },
        "id": "B5IRf_F7M72n",
        "outputId": "d6673595-6360-4ee3-b350-fd3c22b17c02"
      },
      "source": [
        "from sklearn.preprocessing import MinMaxScaler\n",
        "\n",
        "StandardOBJ = MinMaxScaler()\n",
        "StandardFit = StandardOBJ.fit_transform(df[[\"rata2_level_glukosa\",\"bmi\"]])\n",
        "StandardFitTest = StandardOBJ.fit_transform(test[[\"rata2_level_glukosa\",\"bmi\"]])\n",
        "StandardFit"
      ],
      "execution_count": 299,
      "outputs": [
        {
          "output_type": "execute_result",
          "data": {
            "text/plain": [
              "array([[0.17530927, 0.1953602 ],\n",
              "       [0.25021183, 0.13553114],\n",
              "       [0.27092866, 0.23931624],\n",
              "       ...,\n",
              "       [0.02563125, 0.22100122],\n",
              "       [0.22508897, 0.18315018],\n",
              "       [0.05965091, 0.22710623]])"
            ]
          },
          "metadata": {
            "tags": []
          },
          "execution_count": 299
        }
      ]
    },
    {
      "cell_type": "code",
      "metadata": {
        "id": "83AZIHyRNMuB"
      },
      "source": [
        "df[\"rata2_level_glukosa\"] = StandardFit[:,0]\n",
        "df[\"bmi\"] = StandardFit[:,1]\n",
        "test[\"rata2_level_glukosa\"] = StandardFitTest[:,0]\n",
        "test[\"bmi\"] = StandardFitTest[:,1]"
      ],
      "execution_count": 300,
      "outputs": []
    },
    {
      "cell_type": "code",
      "metadata": {
        "id": "EB1OLzq4RemE"
      },
      "source": [
        "df.drop([\"jenis_kelamin\",\"jenis_tempat_tinggal\"],axis=1,inplace=True)\n",
        "test.drop([\"jenis_kelamin\",\"jenis_tempat_tinggal\"],axis=1,inplace=True)\n"
      ],
      "execution_count": 302,
      "outputs": []
    },
    {
      "cell_type": "code",
      "metadata": {
        "id": "uTwyCK713v6d"
      },
      "source": [
        "dfcopy=df.copy()\n",
        "dfcopy2 = df.copy()"
      ],
      "execution_count": 303,
      "outputs": []
    },
    {
      "cell_type": "code",
      "metadata": {
        "colab": {
          "base_uri": "https://localhost:8080/",
          "height": 114
        },
        "id": "ngytgb_D3IOs",
        "outputId": "c21b419c-b282-47a9-e00c-550d88507b1a"
      },
      "source": [
        "dfcopy = df[df[\"stroke\"] == 1]\n",
        "dfcopy2 = df[df[\"stroke\"]==0][:390]\n",
        "dfcopy2.head(1)"
      ],
      "execution_count": 304,
      "outputs": [
        {
          "output_type": "execute_result",
          "data": {
            "text/html": [
              "<div>\n",
              "<style scoped>\n",
              "    .dataframe tbody tr th:only-of-type {\n",
              "        vertical-align: middle;\n",
              "    }\n",
              "\n",
              "    .dataframe tbody tr th {\n",
              "        vertical-align: top;\n",
              "    }\n",
              "\n",
              "    .dataframe thead th {\n",
              "        text-align: right;\n",
              "    }\n",
              "</style>\n",
              "<table border=\"1\" class=\"dataframe\">\n",
              "  <thead>\n",
              "    <tr style=\"text-align: right;\">\n",
              "      <th></th>\n",
              "      <th>umur</th>\n",
              "      <th>hipertensi</th>\n",
              "      <th>penyakit_jantung</th>\n",
              "      <th>sudah_menikah</th>\n",
              "      <th>rata2_level_glukosa</th>\n",
              "      <th>bmi</th>\n",
              "      <th>stroke</th>\n",
              "      <th>jenis_kelamin_Laki-laki</th>\n",
              "      <th>jenis_kelamin_Perempuan</th>\n",
              "      <th>jenis_pekerjaan_PNS</th>\n",
              "      <th>jenis_pekerjaan_Wirausaha</th>\n",
              "      <th>jenis_pekerjaan_belum bekerja</th>\n",
              "      <th>jenis_pekerjaan_swasta</th>\n",
              "      <th>jenis_tempat_tinggal_Pedesaan</th>\n",
              "      <th>jenis_tempat_tinggal_Perkotaan</th>\n",
              "      <th>perokok aktif</th>\n",
              "      <th>tidak</th>\n",
              "    </tr>\n",
              "  </thead>\n",
              "  <tbody>\n",
              "    <tr>\n",
              "      <th>0</th>\n",
              "      <td>43</td>\n",
              "      <td>0</td>\n",
              "      <td>0</td>\n",
              "      <td>1</td>\n",
              "      <td>0.175309</td>\n",
              "      <td>0.19536</td>\n",
              "      <td>0</td>\n",
              "      <td>1</td>\n",
              "      <td>0</td>\n",
              "      <td>0</td>\n",
              "      <td>0</td>\n",
              "      <td>0</td>\n",
              "      <td>1</td>\n",
              "      <td>1</td>\n",
              "      <td>0</td>\n",
              "      <td>0</td>\n",
              "      <td>0</td>\n",
              "    </tr>\n",
              "  </tbody>\n",
              "</table>\n",
              "</div>"
            ],
            "text/plain": [
              "   umur  hipertensi  ...  perokok aktif  tidak\n",
              "0    43           0  ...              0      0\n",
              "\n",
              "[1 rows x 17 columns]"
            ]
          },
          "metadata": {
            "tags": []
          },
          "execution_count": 304
        }
      ]
    },
    {
      "cell_type": "code",
      "metadata": {
        "colab": {
          "base_uri": "https://localhost:8080/"
        },
        "id": "s_9Sp0b73-4W",
        "outputId": "c2ac4987-130a-42b3-81ec-bb46d62a4276"
      },
      "source": [
        "finaldf = pd.concat([dfcopy,dfcopy2],axis=0)\n",
        "finaldf.shape"
      ],
      "execution_count": 305,
      "outputs": [
        {
          "output_type": "execute_result",
          "data": {
            "text/plain": [
              "(773, 17)"
            ]
          },
          "metadata": {
            "tags": []
          },
          "execution_count": 305
        }
      ]
    },
    {
      "cell_type": "code",
      "metadata": {
        "colab": {
          "base_uri": "https://localhost:8080/"
        },
        "id": "uwiqYKG_Nk4v",
        "outputId": "e16dfd20-91ea-4ea6-ec90-cc13d12b22bb"
      },
      "source": [
        "from tensorflow.keras.utils import to_categorical\n",
        "X = finaldf.drop(\"stroke\",axis=1)\n",
        "Y = finaldf[\"stroke\"]\n",
        "Y = Y.astype(\"float64\")\n",
        "X.shape, Y.shape"
      ],
      "execution_count": 306,
      "outputs": [
        {
          "output_type": "execute_result",
          "data": {
            "text/plain": [
              "((773, 16), (773,))"
            ]
          },
          "metadata": {
            "tags": []
          },
          "execution_count": 306
        }
      ]
    },
    {
      "cell_type": "code",
      "metadata": {
        "colab": {
          "base_uri": "https://localhost:8080/",
          "height": 234
        },
        "id": "afY3kLvsQkLi",
        "outputId": "6294eae3-4932-45a0-e0a0-8d7b223f9be1"
      },
      "source": [
        "X.head()"
      ],
      "execution_count": 307,
      "outputs": [
        {
          "output_type": "execute_result",
          "data": {
            "text/html": [
              "<div>\n",
              "<style scoped>\n",
              "    .dataframe tbody tr th:only-of-type {\n",
              "        vertical-align: middle;\n",
              "    }\n",
              "\n",
              "    .dataframe tbody tr th {\n",
              "        vertical-align: top;\n",
              "    }\n",
              "\n",
              "    .dataframe thead th {\n",
              "        text-align: right;\n",
              "    }\n",
              "</style>\n",
              "<table border=\"1\" class=\"dataframe\">\n",
              "  <thead>\n",
              "    <tr style=\"text-align: right;\">\n",
              "      <th></th>\n",
              "      <th>umur</th>\n",
              "      <th>hipertensi</th>\n",
              "      <th>penyakit_jantung</th>\n",
              "      <th>sudah_menikah</th>\n",
              "      <th>rata2_level_glukosa</th>\n",
              "      <th>bmi</th>\n",
              "      <th>jenis_kelamin_Laki-laki</th>\n",
              "      <th>jenis_kelamin_Perempuan</th>\n",
              "      <th>jenis_pekerjaan_PNS</th>\n",
              "      <th>jenis_pekerjaan_Wirausaha</th>\n",
              "      <th>jenis_pekerjaan_belum bekerja</th>\n",
              "      <th>jenis_pekerjaan_swasta</th>\n",
              "      <th>jenis_tempat_tinggal_Pedesaan</th>\n",
              "      <th>jenis_tempat_tinggal_Perkotaan</th>\n",
              "      <th>perokok aktif</th>\n",
              "      <th>tidak</th>\n",
              "    </tr>\n",
              "  </thead>\n",
              "  <tbody>\n",
              "    <tr>\n",
              "      <th>27</th>\n",
              "      <td>45</td>\n",
              "      <td>1</td>\n",
              "      <td>0</td>\n",
              "      <td>0</td>\n",
              "      <td>0.786604</td>\n",
              "      <td>0.352869</td>\n",
              "      <td>1</td>\n",
              "      <td>0</td>\n",
              "      <td>0</td>\n",
              "      <td>0</td>\n",
              "      <td>0</td>\n",
              "      <td>1</td>\n",
              "      <td>0</td>\n",
              "      <td>1</td>\n",
              "      <td>1</td>\n",
              "      <td>0</td>\n",
              "    </tr>\n",
              "    <tr>\n",
              "      <th>59</th>\n",
              "      <td>78</td>\n",
              "      <td>0</td>\n",
              "      <td>0</td>\n",
              "      <td>1</td>\n",
              "      <td>0.052025</td>\n",
              "      <td>0.177045</td>\n",
              "      <td>0</td>\n",
              "      <td>1</td>\n",
              "      <td>0</td>\n",
              "      <td>0</td>\n",
              "      <td>0</td>\n",
              "      <td>1</td>\n",
              "      <td>0</td>\n",
              "      <td>1</td>\n",
              "      <td>0</td>\n",
              "      <td>1</td>\n",
              "    </tr>\n",
              "    <tr>\n",
              "      <th>246</th>\n",
              "      <td>68</td>\n",
              "      <td>1</td>\n",
              "      <td>0</td>\n",
              "      <td>0</td>\n",
              "      <td>0.104982</td>\n",
              "      <td>0.239316</td>\n",
              "      <td>0</td>\n",
              "      <td>1</td>\n",
              "      <td>0</td>\n",
              "      <td>1</td>\n",
              "      <td>0</td>\n",
              "      <td>0</td>\n",
              "      <td>0</td>\n",
              "      <td>1</td>\n",
              "      <td>0</td>\n",
              "      <td>1</td>\n",
              "    </tr>\n",
              "    <tr>\n",
              "      <th>297</th>\n",
              "      <td>68</td>\n",
              "      <td>1</td>\n",
              "      <td>0</td>\n",
              "      <td>1</td>\n",
              "      <td>0.125911</td>\n",
              "      <td>0.222222</td>\n",
              "      <td>1</td>\n",
              "      <td>0</td>\n",
              "      <td>0</td>\n",
              "      <td>0</td>\n",
              "      <td>0</td>\n",
              "      <td>1</td>\n",
              "      <td>0</td>\n",
              "      <td>1</td>\n",
              "      <td>1</td>\n",
              "      <td>0</td>\n",
              "    </tr>\n",
              "    <tr>\n",
              "      <th>311</th>\n",
              "      <td>38</td>\n",
              "      <td>0</td>\n",
              "      <td>1</td>\n",
              "      <td>1</td>\n",
              "      <td>0.046518</td>\n",
              "      <td>0.158730</td>\n",
              "      <td>0</td>\n",
              "      <td>1</td>\n",
              "      <td>0</td>\n",
              "      <td>0</td>\n",
              "      <td>0</td>\n",
              "      <td>1</td>\n",
              "      <td>0</td>\n",
              "      <td>1</td>\n",
              "      <td>0</td>\n",
              "      <td>0</td>\n",
              "    </tr>\n",
              "  </tbody>\n",
              "</table>\n",
              "</div>"
            ],
            "text/plain": [
              "     umur  hipertensi  ...  perokok aktif  tidak\n",
              "27     45           1  ...              1      0\n",
              "59     78           0  ...              0      1\n",
              "246    68           1  ...              0      1\n",
              "297    68           1  ...              1      0\n",
              "311    38           0  ...              0      0\n",
              "\n",
              "[5 rows x 16 columns]"
            ]
          },
          "metadata": {
            "tags": []
          },
          "execution_count": 307
        }
      ]
    },
    {
      "cell_type": "code",
      "metadata": {
        "colab": {
          "base_uri": "https://localhost:8080/"
        },
        "id": "dXeiTWK2NdNr",
        "outputId": "d2eda981-72dd-4a03-ccc6-873c407cc3cc"
      },
      "source": [
        "from sklearn.model_selection import train_test_split\n",
        "x_train,x_val,y_train,y_val = train_test_split(X,Y , test_size=0.05, random_state=5)\n",
        "x_train.shape, y_train.shape"
      ],
      "execution_count": 308,
      "outputs": [
        {
          "output_type": "execute_result",
          "data": {
            "text/plain": [
              "((734, 16), (734,))"
            ]
          },
          "metadata": {
            "tags": []
          },
          "execution_count": 308
        }
      ]
    },
    {
      "cell_type": "code",
      "metadata": {
        "colab": {
          "base_uri": "https://localhost:8080/"
        },
        "id": "scWSXl7bRLDD",
        "outputId": "d340faf7-4a99-41be-8116-7cd537c45c77"
      },
      "source": [
        "y_train"
      ],
      "execution_count": 271,
      "outputs": [
        {
          "output_type": "execute_result",
          "data": {
            "text/plain": [
              "86       0.0\n",
              "241      0.0\n",
              "71       0.0\n",
              "18777    1.0\n",
              "3413     1.0\n",
              "        ... \n",
              "6098     1.0\n",
              "17       0.0\n",
              "8586     1.0\n",
              "323      0.0\n",
              "15581    1.0\n",
              "Name: stroke, Length: 734, dtype: float64"
            ]
          },
          "metadata": {
            "tags": []
          },
          "execution_count": 271
        }
      ]
    },
    {
      "cell_type": "code",
      "metadata": {
        "colab": {
          "base_uri": "https://localhost:8080/"
        },
        "id": "MHyOHDgON8Oz",
        "outputId": "f53156b2-9619-4ab4-e7d8-68575e845fdb"
      },
      "source": [
        "TrainDataset = (tf.data.Dataset.from_tensor_slices((x_train,y_train)).batch(32).prefetch(AUTO))\n",
        "ValDataset = (tf.data.Dataset.from_tensor_slices((x_val,y_val)).batch(32).cache().prefetch(AUTO))\n",
        "TrainDataset.element_spec"
      ],
      "execution_count": 309,
      "outputs": [
        {
          "output_type": "execute_result",
          "data": {
            "text/plain": [
              "(TensorSpec(shape=(None, 16), dtype=tf.float64, name=None),\n",
              " TensorSpec(shape=(None,), dtype=tf.float64, name=None))"
            ]
          },
          "metadata": {
            "tags": []
          },
          "execution_count": 309
        }
      ]
    },
    {
      "cell_type": "code",
      "metadata": {
        "colab": {
          "base_uri": "https://localhost:8080/"
        },
        "id": "4F08Icm_U8r9",
        "outputId": "7898d0cc-5031-426e-9553-41f96a6ef92a"
      },
      "source": [
        "ValDataset.element_spec"
      ],
      "execution_count": 168,
      "outputs": [
        {
          "output_type": "execute_result",
          "data": {
            "text/plain": [
              "(TensorSpec(shape=(None, 9), dtype=tf.float64, name=None),\n",
              " TensorSpec(shape=(None,), dtype=tf.float64, name=None))"
            ]
          },
          "metadata": {
            "tags": []
          },
          "execution_count": 168
        }
      ]
    },
    {
      "cell_type": "code",
      "metadata": {
        "colab": {
          "base_uri": "https://localhost:8080/"
        },
        "id": "NbxVuF-7O5Ij",
        "outputId": "58b4c81b-39fd-49a0-ec67-16ae4c8c575a"
      },
      "source": [
        "\n",
        "input = Input(shape=(16,),dtype=tf.float64)\n",
        "layer = Dense(units=64 ,activation=tf.nn.leaky_relu)(input)\n",
        "layer = Dropout(0.76)(layer)\n",
        "layer = Dense(units=32,activation=tf.nn.leaky_relu)(layer)\n",
        "layer = Dropout(0.4)(layer)\n",
        "layer = Dense(units=32,activation=tf.nn.relu)(layer)\n",
        "layer = Dense(16,activation=tf.nn.tanh)(layer)\n",
        "layer = Dropout(0.5)(layer)\n",
        "layer = Dense(1, activation=tf.nn.sigmoid)(layer)\n",
        "\n",
        "METRICS = [\n",
        "        tf.keras.metrics.TruePositives(name='tp'),\n",
        "        tf.keras.metrics.FalsePositives(name='fp'),\n",
        "        tf.keras.metrics.TrueNegatives(name='tn'),\n",
        "        tf.keras.metrics.FalseNegatives(name='fn'), \n",
        "        tf.keras.metrics.BinaryAccuracy(name='accuracy'),\n",
        "        tf.keras.metrics.Precision(name='precision'),\n",
        "        tf.keras.metrics.Recall(name='recall'),\n",
        "        tf.keras.metrics.AUC(name='auc'),\n",
        "  ] \n",
        "model = Model(inputs=[input],outputs=layer)\n",
        "model.compile(loss=tf.keras.losses.BinaryCrossentropy(),\n",
        "              optimizer=tf.keras.optimizers.Adam(0.01),\n",
        "              metrics=METRICS)\n",
        "model.summary()"
      ],
      "execution_count": 312,
      "outputs": [
        {
          "output_type": "stream",
          "text": [
            "WARNING:tensorflow:Layer dense_63 is casting an input tensor from dtype float64 to the layer's dtype of float32, which is new behavior in TensorFlow 2.  The layer has dtype float32 because its dtype defaults to floatx.\n",
            "\n",
            "If you intended to run this layer in float32, you can safely ignore this warning. If in doubt, this warning is likely only an issue if you are porting a TensorFlow 1.X model to TensorFlow 2.\n",
            "\n",
            "To change all layers to have dtype float64 by default, call `tf.keras.backend.set_floatx('float64')`. To change just this layer, pass dtype='float64' to the layer constructor. If you are the author of this layer, you can disable autocasting by passing autocast=False to the base Layer constructor.\n",
            "\n",
            "Model: \"functional_31\"\n",
            "_________________________________________________________________\n",
            "Layer (type)                 Output Shape              Param #   \n",
            "=================================================================\n",
            "input_16 (InputLayer)        [(None, 16)]              0         \n",
            "_________________________________________________________________\n",
            "dense_63 (Dense)             (None, 64)                1088      \n",
            "_________________________________________________________________\n",
            "dropout_45 (Dropout)         (None, 64)                0         \n",
            "_________________________________________________________________\n",
            "dense_64 (Dense)             (None, 32)                2080      \n",
            "_________________________________________________________________\n",
            "dropout_46 (Dropout)         (None, 32)                0         \n",
            "_________________________________________________________________\n",
            "dense_65 (Dense)             (None, 32)                1056      \n",
            "_________________________________________________________________\n",
            "dense_66 (Dense)             (None, 16)                528       \n",
            "_________________________________________________________________\n",
            "dropout_47 (Dropout)         (None, 16)                0         \n",
            "_________________________________________________________________\n",
            "dense_67 (Dense)             (None, 1)                 17        \n",
            "=================================================================\n",
            "Total params: 4,769\n",
            "Trainable params: 4,769\n",
            "Non-trainable params: 0\n",
            "_________________________________________________________________\n"
          ],
          "name": "stdout"
        }
      ]
    },
    {
      "cell_type": "code",
      "metadata": {
        "id": "EQbDk0U_CHou"
      },
      "source": [
        "from tensorflow.keras.callbacks import EarlyStopping\n",
        "Early=EarlyStopping(patience=100,monitor=\"val_loss\")"
      ],
      "execution_count": 274,
      "outputs": []
    },
    {
      "cell_type": "code",
      "metadata": {
        "id": "imEs_87cB9Ob"
      },
      "source": [
        "import math\n",
        "def create_learning_rate_scheduler(max_learn_rate=1e-2,\n",
        "                                   end_learn_rate=1e-6,\n",
        "                                   warmup_epoch_count=3,\n",
        "                                   total_epoch_count=15):\n",
        "\n",
        "    def lr_scheduler(epoch):\n",
        "        if epoch < warmup_epoch_count:\n",
        "            res = max_learn_rate\n",
        "        else:\n",
        "            res = max_learn_rate*math.exp(math.log(end_learn_rate/max_learn_rate)*(epoch-warmup_epoch_count+1)/(total_epoch_count-warmup_epoch_count+1))\n",
        "        return float(res)\n",
        "    learning_rate_scheduler = tf.keras.callbacks.LearningRateScheduler(lr_scheduler, verbose=1)\n",
        "\n",
        "    return learning_rate_scheduler"
      ],
      "execution_count": 171,
      "outputs": []
    },
    {
      "cell_type": "code",
      "metadata": {
        "colab": {
          "base_uri": "https://localhost:8080/"
        },
        "id": "38H1t8isQNvk",
        "outputId": "69df1ca9-0c94-4e18-9456-cfde7968f930"
      },
      "source": [
        "model.fit(TrainDataset,verbose=False,validation_data=ValDataset,epochs=1000,callbacks=[create_learning_rate_scheduler(0.001,0.0005,100,200),Early])\n",
        "\n"
      ],
      "execution_count": 313,
      "outputs": [
        {
          "output_type": "stream",
          "text": [
            "\n",
            "Epoch 00001: LearningRateScheduler reducing learning rate to 0.001.\n",
            "\n",
            "Epoch 00002: LearningRateScheduler reducing learning rate to 0.001.\n",
            "\n",
            "Epoch 00003: LearningRateScheduler reducing learning rate to 0.001.\n",
            "\n",
            "Epoch 00004: LearningRateScheduler reducing learning rate to 0.001.\n",
            "\n",
            "Epoch 00005: LearningRateScheduler reducing learning rate to 0.001.\n",
            "\n",
            "Epoch 00006: LearningRateScheduler reducing learning rate to 0.001.\n",
            "\n",
            "Epoch 00007: LearningRateScheduler reducing learning rate to 0.001.\n",
            "\n",
            "Epoch 00008: LearningRateScheduler reducing learning rate to 0.001.\n",
            "\n",
            "Epoch 00009: LearningRateScheduler reducing learning rate to 0.001.\n",
            "\n",
            "Epoch 00010: LearningRateScheduler reducing learning rate to 0.001.\n",
            "\n",
            "Epoch 00011: LearningRateScheduler reducing learning rate to 0.001.\n",
            "\n",
            "Epoch 00012: LearningRateScheduler reducing learning rate to 0.001.\n",
            "\n",
            "Epoch 00013: LearningRateScheduler reducing learning rate to 0.001.\n",
            "\n",
            "Epoch 00014: LearningRateScheduler reducing learning rate to 0.001.\n",
            "\n",
            "Epoch 00015: LearningRateScheduler reducing learning rate to 0.001.\n",
            "\n",
            "Epoch 00016: LearningRateScheduler reducing learning rate to 0.001.\n",
            "\n",
            "Epoch 00017: LearningRateScheduler reducing learning rate to 0.001.\n",
            "\n",
            "Epoch 00018: LearningRateScheduler reducing learning rate to 0.001.\n",
            "\n",
            "Epoch 00019: LearningRateScheduler reducing learning rate to 0.001.\n",
            "\n",
            "Epoch 00020: LearningRateScheduler reducing learning rate to 0.001.\n",
            "\n",
            "Epoch 00021: LearningRateScheduler reducing learning rate to 0.001.\n",
            "\n",
            "Epoch 00022: LearningRateScheduler reducing learning rate to 0.001.\n",
            "\n",
            "Epoch 00023: LearningRateScheduler reducing learning rate to 0.001.\n",
            "\n",
            "Epoch 00024: LearningRateScheduler reducing learning rate to 0.001.\n",
            "\n",
            "Epoch 00025: LearningRateScheduler reducing learning rate to 0.001.\n",
            "\n",
            "Epoch 00026: LearningRateScheduler reducing learning rate to 0.001.\n",
            "\n",
            "Epoch 00027: LearningRateScheduler reducing learning rate to 0.001.\n",
            "\n",
            "Epoch 00028: LearningRateScheduler reducing learning rate to 0.001.\n",
            "\n",
            "Epoch 00029: LearningRateScheduler reducing learning rate to 0.001.\n",
            "\n",
            "Epoch 00030: LearningRateScheduler reducing learning rate to 0.001.\n",
            "\n",
            "Epoch 00031: LearningRateScheduler reducing learning rate to 0.001.\n",
            "\n",
            "Epoch 00032: LearningRateScheduler reducing learning rate to 0.001.\n",
            "\n",
            "Epoch 00033: LearningRateScheduler reducing learning rate to 0.001.\n",
            "\n",
            "Epoch 00034: LearningRateScheduler reducing learning rate to 0.001.\n",
            "\n",
            "Epoch 00035: LearningRateScheduler reducing learning rate to 0.001.\n",
            "\n",
            "Epoch 00036: LearningRateScheduler reducing learning rate to 0.001.\n",
            "\n",
            "Epoch 00037: LearningRateScheduler reducing learning rate to 0.001.\n",
            "\n",
            "Epoch 00038: LearningRateScheduler reducing learning rate to 0.001.\n",
            "\n",
            "Epoch 00039: LearningRateScheduler reducing learning rate to 0.001.\n",
            "\n",
            "Epoch 00040: LearningRateScheduler reducing learning rate to 0.001.\n",
            "\n",
            "Epoch 00041: LearningRateScheduler reducing learning rate to 0.001.\n",
            "\n",
            "Epoch 00042: LearningRateScheduler reducing learning rate to 0.001.\n",
            "\n",
            "Epoch 00043: LearningRateScheduler reducing learning rate to 0.001.\n",
            "\n",
            "Epoch 00044: LearningRateScheduler reducing learning rate to 0.001.\n",
            "\n",
            "Epoch 00045: LearningRateScheduler reducing learning rate to 0.001.\n",
            "\n",
            "Epoch 00046: LearningRateScheduler reducing learning rate to 0.001.\n",
            "\n",
            "Epoch 00047: LearningRateScheduler reducing learning rate to 0.001.\n",
            "\n",
            "Epoch 00048: LearningRateScheduler reducing learning rate to 0.001.\n",
            "\n",
            "Epoch 00049: LearningRateScheduler reducing learning rate to 0.001.\n",
            "\n",
            "Epoch 00050: LearningRateScheduler reducing learning rate to 0.001.\n",
            "\n",
            "Epoch 00051: LearningRateScheduler reducing learning rate to 0.001.\n",
            "\n",
            "Epoch 00052: LearningRateScheduler reducing learning rate to 0.001.\n",
            "\n",
            "Epoch 00053: LearningRateScheduler reducing learning rate to 0.001.\n",
            "\n",
            "Epoch 00054: LearningRateScheduler reducing learning rate to 0.001.\n",
            "\n",
            "Epoch 00055: LearningRateScheduler reducing learning rate to 0.001.\n",
            "\n",
            "Epoch 00056: LearningRateScheduler reducing learning rate to 0.001.\n",
            "\n",
            "Epoch 00057: LearningRateScheduler reducing learning rate to 0.001.\n",
            "\n",
            "Epoch 00058: LearningRateScheduler reducing learning rate to 0.001.\n",
            "\n",
            "Epoch 00059: LearningRateScheduler reducing learning rate to 0.001.\n",
            "\n",
            "Epoch 00060: LearningRateScheduler reducing learning rate to 0.001.\n",
            "\n",
            "Epoch 00061: LearningRateScheduler reducing learning rate to 0.001.\n",
            "\n",
            "Epoch 00062: LearningRateScheduler reducing learning rate to 0.001.\n",
            "\n",
            "Epoch 00063: LearningRateScheduler reducing learning rate to 0.001.\n",
            "\n",
            "Epoch 00064: LearningRateScheduler reducing learning rate to 0.001.\n",
            "\n",
            "Epoch 00065: LearningRateScheduler reducing learning rate to 0.001.\n",
            "\n",
            "Epoch 00066: LearningRateScheduler reducing learning rate to 0.001.\n",
            "\n",
            "Epoch 00067: LearningRateScheduler reducing learning rate to 0.001.\n",
            "\n",
            "Epoch 00068: LearningRateScheduler reducing learning rate to 0.001.\n",
            "\n",
            "Epoch 00069: LearningRateScheduler reducing learning rate to 0.001.\n",
            "\n",
            "Epoch 00070: LearningRateScheduler reducing learning rate to 0.001.\n",
            "\n",
            "Epoch 00071: LearningRateScheduler reducing learning rate to 0.001.\n",
            "\n",
            "Epoch 00072: LearningRateScheduler reducing learning rate to 0.001.\n",
            "\n",
            "Epoch 00073: LearningRateScheduler reducing learning rate to 0.001.\n",
            "\n",
            "Epoch 00074: LearningRateScheduler reducing learning rate to 0.001.\n",
            "\n",
            "Epoch 00075: LearningRateScheduler reducing learning rate to 0.001.\n",
            "\n",
            "Epoch 00076: LearningRateScheduler reducing learning rate to 0.001.\n",
            "\n",
            "Epoch 00077: LearningRateScheduler reducing learning rate to 0.001.\n",
            "\n",
            "Epoch 00078: LearningRateScheduler reducing learning rate to 0.001.\n",
            "\n",
            "Epoch 00079: LearningRateScheduler reducing learning rate to 0.001.\n",
            "\n",
            "Epoch 00080: LearningRateScheduler reducing learning rate to 0.001.\n",
            "\n",
            "Epoch 00081: LearningRateScheduler reducing learning rate to 0.001.\n",
            "\n",
            "Epoch 00082: LearningRateScheduler reducing learning rate to 0.001.\n",
            "\n",
            "Epoch 00083: LearningRateScheduler reducing learning rate to 0.001.\n",
            "\n",
            "Epoch 00084: LearningRateScheduler reducing learning rate to 0.001.\n",
            "\n",
            "Epoch 00085: LearningRateScheduler reducing learning rate to 0.001.\n",
            "\n",
            "Epoch 00086: LearningRateScheduler reducing learning rate to 0.001.\n",
            "\n",
            "Epoch 00087: LearningRateScheduler reducing learning rate to 0.001.\n",
            "\n",
            "Epoch 00088: LearningRateScheduler reducing learning rate to 0.001.\n",
            "\n",
            "Epoch 00089: LearningRateScheduler reducing learning rate to 0.001.\n",
            "\n",
            "Epoch 00090: LearningRateScheduler reducing learning rate to 0.001.\n",
            "\n",
            "Epoch 00091: LearningRateScheduler reducing learning rate to 0.001.\n",
            "\n",
            "Epoch 00092: LearningRateScheduler reducing learning rate to 0.001.\n",
            "\n",
            "Epoch 00093: LearningRateScheduler reducing learning rate to 0.001.\n",
            "\n",
            "Epoch 00094: LearningRateScheduler reducing learning rate to 0.001.\n",
            "\n",
            "Epoch 00095: LearningRateScheduler reducing learning rate to 0.001.\n",
            "\n",
            "Epoch 00096: LearningRateScheduler reducing learning rate to 0.001.\n",
            "\n",
            "Epoch 00097: LearningRateScheduler reducing learning rate to 0.001.\n",
            "\n",
            "Epoch 00098: LearningRateScheduler reducing learning rate to 0.001.\n",
            "\n",
            "Epoch 00099: LearningRateScheduler reducing learning rate to 0.001.\n",
            "\n",
            "Epoch 00100: LearningRateScheduler reducing learning rate to 0.001.\n",
            "\n",
            "Epoch 00101: LearningRateScheduler reducing learning rate to 0.0009931606521582535.\n",
            "\n",
            "Epoch 00102: LearningRateScheduler reducing learning rate to 0.0009863680809954073.\n"
          ],
          "name": "stdout"
        },
        {
          "output_type": "execute_result",
          "data": {
            "text/plain": [
              "<tensorflow.python.keras.callbacks.History at 0x7f34ee46f198>"
            ]
          },
          "metadata": {
            "tags": []
          },
          "execution_count": 313
        }
      ]
    },
    {
      "cell_type": "code",
      "metadata": {
        "colab": {
          "base_uri": "https://localhost:8080/",
          "height": 426
        },
        "id": "9FfrJJJ2Jmwm",
        "outputId": "2a6eb967-93bc-45f6-9f15-4f24f2f776c4"
      },
      "source": [
        "x_train"
      ],
      "execution_count": 276,
      "outputs": [
        {
          "output_type": "execute_result",
          "data": {
            "text/html": [
              "<div>\n",
              "<style scoped>\n",
              "    .dataframe tbody tr th:only-of-type {\n",
              "        vertical-align: middle;\n",
              "    }\n",
              "\n",
              "    .dataframe tbody tr th {\n",
              "        vertical-align: top;\n",
              "    }\n",
              "\n",
              "    .dataframe thead th {\n",
              "        text-align: right;\n",
              "    }\n",
              "</style>\n",
              "<table border=\"1\" class=\"dataframe\">\n",
              "  <thead>\n",
              "    <tr style=\"text-align: right;\">\n",
              "      <th></th>\n",
              "      <th>jenis_kelamin</th>\n",
              "      <th>umur</th>\n",
              "      <th>hipertensi</th>\n",
              "      <th>penyakit_jantung</th>\n",
              "      <th>sudah_menikah</th>\n",
              "      <th>jenis_tempat_tinggal</th>\n",
              "      <th>rata2_level_glukosa</th>\n",
              "      <th>bmi</th>\n",
              "      <th>merokok</th>\n",
              "    </tr>\n",
              "  </thead>\n",
              "  <tbody>\n",
              "    <tr>\n",
              "      <th>86</th>\n",
              "      <td>0</td>\n",
              "      <td>38</td>\n",
              "      <td>0</td>\n",
              "      <td>0</td>\n",
              "      <td>1</td>\n",
              "      <td>1</td>\n",
              "      <td>0.737502</td>\n",
              "      <td>0.391941</td>\n",
              "      <td>0</td>\n",
              "    </tr>\n",
              "    <tr>\n",
              "      <th>241</th>\n",
              "      <td>0</td>\n",
              "      <td>24</td>\n",
              "      <td>0</td>\n",
              "      <td>0</td>\n",
              "      <td>0</td>\n",
              "      <td>1</td>\n",
              "      <td>0.173911</td>\n",
              "      <td>0.183150</td>\n",
              "      <td>0</td>\n",
              "    </tr>\n",
              "    <tr>\n",
              "      <th>71</th>\n",
              "      <td>0</td>\n",
              "      <td>49</td>\n",
              "      <td>0</td>\n",
              "      <td>0</td>\n",
              "      <td>1</td>\n",
              "      <td>2</td>\n",
              "      <td>0.028724</td>\n",
              "      <td>0.267399</td>\n",
              "      <td>2</td>\n",
              "    </tr>\n",
              "    <tr>\n",
              "      <th>18777</th>\n",
              "      <td>0</td>\n",
              "      <td>64</td>\n",
              "      <td>1</td>\n",
              "      <td>0</td>\n",
              "      <td>1</td>\n",
              "      <td>2</td>\n",
              "      <td>0.228563</td>\n",
              "      <td>0.249084</td>\n",
              "      <td>1</td>\n",
              "    </tr>\n",
              "    <tr>\n",
              "      <th>3413</th>\n",
              "      <td>0</td>\n",
              "      <td>56</td>\n",
              "      <td>0</td>\n",
              "      <td>0</td>\n",
              "      <td>1</td>\n",
              "      <td>1</td>\n",
              "      <td>0.045797</td>\n",
              "      <td>0.166056</td>\n",
              "      <td>0</td>\n",
              "    </tr>\n",
              "    <tr>\n",
              "      <th>...</th>\n",
              "      <td>...</td>\n",
              "      <td>...</td>\n",
              "      <td>...</td>\n",
              "      <td>...</td>\n",
              "      <td>...</td>\n",
              "      <td>...</td>\n",
              "      <td>...</td>\n",
              "      <td>...</td>\n",
              "      <td>...</td>\n",
              "    </tr>\n",
              "    <tr>\n",
              "      <th>6098</th>\n",
              "      <td>0</td>\n",
              "      <td>69</td>\n",
              "      <td>0</td>\n",
              "      <td>1</td>\n",
              "      <td>0</td>\n",
              "      <td>2</td>\n",
              "      <td>0.075241</td>\n",
              "      <td>0.161172</td>\n",
              "      <td>0</td>\n",
              "    </tr>\n",
              "    <tr>\n",
              "      <th>17</th>\n",
              "      <td>0</td>\n",
              "      <td>48</td>\n",
              "      <td>0</td>\n",
              "      <td>0</td>\n",
              "      <td>1</td>\n",
              "      <td>1</td>\n",
              "      <td>0.208990</td>\n",
              "      <td>0.332112</td>\n",
              "      <td>0</td>\n",
              "    </tr>\n",
              "    <tr>\n",
              "      <th>8586</th>\n",
              "      <td>0</td>\n",
              "      <td>68</td>\n",
              "      <td>1</td>\n",
              "      <td>0</td>\n",
              "      <td>1</td>\n",
              "      <td>1</td>\n",
              "      <td>0.640061</td>\n",
              "      <td>0.202686</td>\n",
              "      <td>0</td>\n",
              "    </tr>\n",
              "    <tr>\n",
              "      <th>323</th>\n",
              "      <td>0</td>\n",
              "      <td>45</td>\n",
              "      <td>0</td>\n",
              "      <td>0</td>\n",
              "      <td>1</td>\n",
              "      <td>2</td>\n",
              "      <td>0.158490</td>\n",
              "      <td>0.166056</td>\n",
              "      <td>1</td>\n",
              "    </tr>\n",
              "    <tr>\n",
              "      <th>15581</th>\n",
              "      <td>0</td>\n",
              "      <td>70</td>\n",
              "      <td>0</td>\n",
              "      <td>1</td>\n",
              "      <td>1</td>\n",
              "      <td>1</td>\n",
              "      <td>0.730258</td>\n",
              "      <td>0.197802</td>\n",
              "      <td>2</td>\n",
              "    </tr>\n",
              "  </tbody>\n",
              "</table>\n",
              "<p>734 rows × 9 columns</p>\n",
              "</div>"
            ],
            "text/plain": [
              "       jenis_kelamin  umur  hipertensi  ...  rata2_level_glukosa       bmi  merokok\n",
              "86                 0    38           0  ...             0.737502  0.391941        0\n",
              "241                0    24           0  ...             0.173911  0.183150        0\n",
              "71                 0    49           0  ...             0.028724  0.267399        2\n",
              "18777              0    64           1  ...             0.228563  0.249084        1\n",
              "3413               0    56           0  ...             0.045797  0.166056        0\n",
              "...              ...   ...         ...  ...                  ...       ...      ...\n",
              "6098               0    69           0  ...             0.075241  0.161172        0\n",
              "17                 0    48           0  ...             0.208990  0.332112        0\n",
              "8586               0    68           1  ...             0.640061  0.202686        0\n",
              "323                0    45           0  ...             0.158490  0.166056        1\n",
              "15581              0    70           0  ...             0.730258  0.197802        2\n",
              "\n",
              "[734 rows x 9 columns]"
            ]
          },
          "metadata": {
            "tags": []
          },
          "execution_count": 276
        }
      ]
    },
    {
      "cell_type": "code",
      "metadata": {
        "id": "yHi4TKBpi3dG",
        "colab": {
          "base_uri": "https://localhost:8080/",
          "height": 197
        },
        "outputId": "8fb51fba-bafc-4873-a3f2-d2ff47d3b3af"
      },
      "source": [
        "answer = np.argmax(model.predict(test[test.columns[1:]]),axis=1)\n",
        "test['stroke']=answer\n",
        "answ=test[[\"id_pasien\",\"stroke\"]]\n",
        "answ.head()"
      ],
      "execution_count": 314,
      "outputs": [
        {
          "output_type": "execute_result",
          "data": {
            "text/html": [
              "<div>\n",
              "<style scoped>\n",
              "    .dataframe tbody tr th:only-of-type {\n",
              "        vertical-align: middle;\n",
              "    }\n",
              "\n",
              "    .dataframe tbody tr th {\n",
              "        vertical-align: top;\n",
              "    }\n",
              "\n",
              "    .dataframe thead th {\n",
              "        text-align: right;\n",
              "    }\n",
              "</style>\n",
              "<table border=\"1\" class=\"dataframe\">\n",
              "  <thead>\n",
              "    <tr style=\"text-align: right;\">\n",
              "      <th></th>\n",
              "      <th>id_pasien</th>\n",
              "      <th>stroke</th>\n",
              "    </tr>\n",
              "  </thead>\n",
              "  <tbody>\n",
              "    <tr>\n",
              "      <th>0</th>\n",
              "      <td>2000</td>\n",
              "      <td>0</td>\n",
              "    </tr>\n",
              "    <tr>\n",
              "      <th>1</th>\n",
              "      <td>2001</td>\n",
              "      <td>0</td>\n",
              "    </tr>\n",
              "    <tr>\n",
              "      <th>2</th>\n",
              "      <td>2002</td>\n",
              "      <td>0</td>\n",
              "    </tr>\n",
              "    <tr>\n",
              "      <th>3</th>\n",
              "      <td>2003</td>\n",
              "      <td>0</td>\n",
              "    </tr>\n",
              "    <tr>\n",
              "      <th>4</th>\n",
              "      <td>2004</td>\n",
              "      <td>0</td>\n",
              "    </tr>\n",
              "  </tbody>\n",
              "</table>\n",
              "</div>"
            ],
            "text/plain": [
              "   id_pasien  stroke\n",
              "0       2000       0\n",
              "1       2001       0\n",
              "2       2002       0\n",
              "3       2003       0\n",
              "4       2004       0"
            ]
          },
          "metadata": {
            "tags": []
          },
          "execution_count": 314
        }
      ]
    },
    {
      "cell_type": "code",
      "metadata": {
        "colab": {
          "base_uri": "https://localhost:8080/"
        },
        "id": "OvXW7wEeMwNb",
        "outputId": "5f5b4cfd-c19d-42b8-dbb0-707564bdd1f6"
      },
      "source": [
        "answer"
      ],
      "execution_count": 315,
      "outputs": [
        {
          "output_type": "execute_result",
          "data": {
            "text/plain": [
              "array([0, 0, 0, 0, 0, 0, 0, 0, 0, 0, 0, 0, 0, 0, 0, 0, 0, 0, 0, 0, 0, 0,\n",
              "       0, 0, 0, 0, 0, 0, 0, 0, 0, 0, 0, 0, 0, 0, 0, 0, 0, 0, 0, 0, 0, 0,\n",
              "       0, 0, 0, 0, 0, 0, 0, 0, 0, 0, 0, 0, 0, 0, 0, 0, 0, 0, 0, 0, 0, 0,\n",
              "       0, 0, 0, 0, 0, 0, 0, 0, 0, 0, 0, 0, 0, 0, 0, 0, 0, 0, 0, 0, 0, 0,\n",
              "       0, 0, 0, 0, 0, 0, 0, 0, 0, 0, 0, 0, 0, 0, 0, 0, 0, 0, 0, 0, 0, 0,\n",
              "       0, 0, 0, 0, 0, 0, 0, 0, 0, 0, 0, 0, 0, 0, 0, 0, 0, 0, 0, 0, 0, 0,\n",
              "       0, 0, 0, 0, 0, 0, 0, 0, 0, 0, 0, 0, 0, 0, 0, 0, 0, 0, 0, 0, 0, 0,\n",
              "       0, 0, 0, 0, 0, 0, 0, 0, 0, 0, 0, 0, 0, 0, 0, 0, 0, 0, 0, 0, 0, 0,\n",
              "       0, 0, 0, 0, 0, 0, 0, 0, 0, 0, 0, 0, 0, 0, 0, 0, 0, 0, 0, 0, 0, 0,\n",
              "       0, 0, 0, 0, 0, 0, 0, 0, 0, 0, 0, 0, 0, 0, 0, 0, 0, 0, 0, 0, 0, 0,\n",
              "       0, 0, 0, 0, 0, 0, 0, 0, 0, 0, 0, 0, 0, 0, 0, 0, 0, 0, 0, 0, 0, 0,\n",
              "       0, 0, 0, 0, 0, 0, 0, 0, 0, 0, 0, 0, 0, 0, 0, 0, 0, 0, 0, 0, 0, 0,\n",
              "       0, 0, 0, 0, 0, 0, 0, 0, 0, 0, 0, 0, 0, 0, 0, 0, 0, 0, 0, 0, 0, 0,\n",
              "       0, 0, 0, 0, 0, 0, 0, 0, 0, 0, 0, 0, 0, 0, 0, 0, 0, 0, 0, 0, 0, 0,\n",
              "       0, 0, 0, 0, 0, 0, 0, 0, 0, 0, 0, 0, 0, 0, 0, 0, 0, 0, 0, 0, 0, 0,\n",
              "       0, 0, 0, 0, 0, 0, 0, 0, 0, 0, 0, 0, 0, 0, 0, 0, 0, 0, 0, 0, 0, 0,\n",
              "       0, 0, 0, 0, 0, 0, 0, 0, 0, 0, 0, 0, 0, 0, 0, 0, 0, 0, 0, 0, 0, 0,\n",
              "       0, 0, 0, 0, 0, 0, 0, 0, 0, 0, 0, 0, 0, 0, 0, 0, 0, 0, 0, 0, 0, 0,\n",
              "       0, 0, 0, 0, 0, 0, 0, 0, 0, 0, 0, 0, 0, 0, 0, 0, 0, 0, 0, 0, 0, 0,\n",
              "       0, 0, 0, 0, 0, 0, 0, 0, 0, 0, 0, 0, 0, 0, 0, 0, 0, 0, 0, 0, 0, 0,\n",
              "       0, 0, 0, 0, 0, 0, 0, 0, 0, 0, 0, 0, 0, 0, 0, 0, 0, 0, 0, 0, 0, 0,\n",
              "       0, 0, 0, 0, 0, 0, 0, 0, 0, 0, 0, 0, 0, 0, 0, 0, 0, 0, 0, 0, 0, 0,\n",
              "       0, 0, 0, 0, 0, 0, 0, 0, 0, 0, 0, 0, 0, 0, 0, 0, 0, 0, 0, 0, 0, 0,\n",
              "       0, 0, 0, 0, 0, 0, 0, 0, 0, 0, 0, 0, 0, 0, 0, 0, 0, 0, 0, 0, 0, 0,\n",
              "       0, 0, 0, 0, 0, 0, 0, 0, 0, 0, 0, 0, 0, 0, 0, 0, 0, 0, 0, 0, 0, 0,\n",
              "       0, 0, 0, 0, 0, 0, 0, 0, 0, 0, 0, 0, 0, 0, 0, 0, 0, 0, 0, 0, 0, 0,\n",
              "       0, 0, 0, 0, 0, 0, 0, 0, 0, 0, 0, 0, 0, 0, 0, 0, 0, 0, 0, 0, 0, 0,\n",
              "       0, 0, 0, 0, 0, 0, 0, 0, 0, 0, 0, 0, 0, 0, 0, 0, 0, 0, 0, 0, 0, 0,\n",
              "       0, 0, 0, 0, 0, 0, 0, 0, 0, 0, 0, 0, 0, 0, 0, 0, 0, 0, 0, 0, 0, 0,\n",
              "       0, 0, 0, 0, 0, 0, 0, 0, 0, 0, 0, 0, 0, 0, 0, 0, 0, 0, 0, 0, 0, 0,\n",
              "       0, 0, 0, 0, 0, 0, 0, 0, 0, 0, 0, 0, 0, 0, 0, 0, 0, 0, 0, 0, 0, 0,\n",
              "       0, 0, 0, 0, 0, 0, 0, 0, 0, 0, 0, 0, 0, 0, 0, 0, 0, 0, 0, 0, 0, 0,\n",
              "       0, 0, 0, 0, 0, 0, 0, 0, 0, 0, 0, 0, 0, 0, 0, 0, 0, 0, 0, 0, 0, 0,\n",
              "       0, 0, 0, 0, 0, 0, 0, 0, 0, 0, 0, 0, 0, 0, 0, 0, 0, 0, 0, 0, 0, 0,\n",
              "       0, 0, 0, 0, 0, 0, 0, 0, 0, 0, 0, 0, 0, 0, 0, 0, 0, 0, 0, 0, 0, 0,\n",
              "       0, 0, 0, 0, 0, 0, 0, 0, 0, 0, 0, 0, 0, 0, 0, 0, 0, 0, 0, 0, 0, 0,\n",
              "       0, 0, 0, 0, 0, 0, 0, 0, 0, 0, 0, 0, 0, 0, 0, 0, 0, 0, 0, 0, 0, 0,\n",
              "       0, 0, 0, 0, 0, 0, 0, 0, 0, 0, 0, 0, 0, 0, 0, 0, 0, 0, 0, 0, 0, 0,\n",
              "       0, 0, 0, 0, 0, 0, 0, 0, 0, 0, 0, 0, 0, 0, 0, 0, 0, 0, 0, 0, 0, 0,\n",
              "       0, 0, 0, 0, 0, 0, 0, 0, 0, 0, 0, 0, 0, 0, 0, 0, 0, 0, 0, 0, 0, 0,\n",
              "       0, 0, 0, 0, 0, 0, 0, 0, 0, 0, 0, 0, 0, 0, 0, 0, 0, 0, 0, 0, 0, 0,\n",
              "       0, 0, 0, 0, 0, 0, 0, 0, 0, 0, 0, 0, 0, 0, 0, 0, 0, 0, 0, 0, 0, 0,\n",
              "       0, 0, 0, 0, 0, 0, 0, 0, 0, 0, 0, 0, 0, 0, 0, 0, 0, 0, 0, 0, 0, 0,\n",
              "       0, 0, 0, 0, 0, 0, 0, 0, 0, 0, 0, 0, 0, 0, 0, 0, 0, 0, 0, 0, 0, 0,\n",
              "       0, 0, 0, 0, 0, 0, 0, 0, 0, 0, 0, 0, 0, 0, 0, 0, 0, 0, 0, 0, 0, 0])"
            ]
          },
          "metadata": {
            "tags": []
          },
          "execution_count": 315
        }
      ]
    },
    {
      "cell_type": "code",
      "metadata": {
        "id": "oAUXrcvvM69Z"
      },
      "source": [
        "test.drop(\"stroke\",axis=1,inplace=True)"
      ],
      "execution_count": 316,
      "outputs": []
    },
    {
      "cell_type": "code",
      "metadata": {
        "id": "n7gQCm3WJeJD"
      },
      "source": [
        "answ.to_csv(\"submit.csv\",index=False)"
      ],
      "execution_count": 178,
      "outputs": []
    },
    {
      "cell_type": "code",
      "metadata": {
        "colab": {
          "base_uri": "https://localhost:8080/"
        },
        "id": "7iJ6fsBwL2kg",
        "outputId": "9b6dae89-e717-47a0-97e1-57af3f13c43a"
      },
      "source": [
        "from sklearn.ensemble import RandomForestClassifier\n",
        "\n",
        "RandomObj = RandomForestClassifier(n_estimators=1000,max_depth=7,random_state=5)\n",
        "RandomObj.fit(x_train,y_train)"
      ],
      "execution_count": 327,
      "outputs": [
        {
          "output_type": "execute_result",
          "data": {
            "text/plain": [
              "RandomForestClassifier(bootstrap=True, ccp_alpha=0.0, class_weight=None,\n",
              "                       criterion='gini', max_depth=7, max_features='auto',\n",
              "                       max_leaf_nodes=None, max_samples=None,\n",
              "                       min_impurity_decrease=0.0, min_impurity_split=None,\n",
              "                       min_samples_leaf=1, min_samples_split=2,\n",
              "                       min_weight_fraction_leaf=0.0, n_estimators=1000,\n",
              "                       n_jobs=None, oob_score=False, random_state=5, verbose=0,\n",
              "                       warm_start=False)"
            ]
          },
          "metadata": {
            "tags": []
          },
          "execution_count": 327
        }
      ]
    },
    {
      "cell_type": "code",
      "metadata": {
        "colab": {
          "base_uri": "https://localhost:8080/"
        },
        "id": "XHIZ6ssHNXcl",
        "outputId": "63a5daa3-34ba-4a52-87b8-48cd4b66cade"
      },
      "source": [
        "from sklearn.metrics import classification_report\n",
        "y_pred = RandomObj.predict(x_val)\n",
        "print(classification_report(y_val,y_pred))"
      ],
      "execution_count": 328,
      "outputs": [
        {
          "output_type": "stream",
          "text": [
            "              precision    recall  f1-score   support\n",
            "\n",
            "         0.0       0.94      0.71      0.81        21\n",
            "         1.0       0.74      0.94      0.83        18\n",
            "\n",
            "    accuracy                           0.82        39\n",
            "   macro avg       0.84      0.83      0.82        39\n",
            "weighted avg       0.85      0.82      0.82        39\n",
            "\n"
          ],
          "name": "stdout"
        }
      ]
    },
    {
      "cell_type": "code",
      "metadata": {
        "id": "BgXaiZBKMZ5a"
      },
      "source": [
        "Ans =RandomObj.predict(test[test.columns[1:]])"
      ],
      "execution_count": 329,
      "outputs": []
    },
    {
      "cell_type": "code",
      "metadata": {
        "id": "4Giv-QTfNLQm"
      },
      "source": [
        "Answer = pd.DataFrame(test[\"id_pasien\"])\n",
        "Answer[\"stroke\"] = Ans\n",
        "Answer.to_csv(\"/content/drive/My Drive/submitmlFixed.csv\",index=False)"
      ],
      "execution_count": 331,
      "outputs": []
    },
    {
      "cell_type": "code",
      "metadata": {
        "colab": {
          "base_uri": "https://localhost:8080/",
          "height": 406
        },
        "id": "phh49KjUM092",
        "outputId": "8aa22c43-c56e-4cb2-fcf1-49162cbba78d"
      },
      "source": [
        "Answer"
      ],
      "execution_count": 332,
      "outputs": [
        {
          "output_type": "execute_result",
          "data": {
            "text/html": [
              "<div>\n",
              "<style scoped>\n",
              "    .dataframe tbody tr th:only-of-type {\n",
              "        vertical-align: middle;\n",
              "    }\n",
              "\n",
              "    .dataframe tbody tr th {\n",
              "        vertical-align: top;\n",
              "    }\n",
              "\n",
              "    .dataframe thead th {\n",
              "        text-align: right;\n",
              "    }\n",
              "</style>\n",
              "<table border=\"1\" class=\"dataframe\">\n",
              "  <thead>\n",
              "    <tr style=\"text-align: right;\">\n",
              "      <th></th>\n",
              "      <th>id_pasien</th>\n",
              "      <th>stroke</th>\n",
              "    </tr>\n",
              "  </thead>\n",
              "  <tbody>\n",
              "    <tr>\n",
              "      <th>0</th>\n",
              "      <td>2000</td>\n",
              "      <td>0.0</td>\n",
              "    </tr>\n",
              "    <tr>\n",
              "      <th>1</th>\n",
              "      <td>2001</td>\n",
              "      <td>1.0</td>\n",
              "    </tr>\n",
              "    <tr>\n",
              "      <th>2</th>\n",
              "      <td>2002</td>\n",
              "      <td>0.0</td>\n",
              "    </tr>\n",
              "    <tr>\n",
              "      <th>3</th>\n",
              "      <td>2003</td>\n",
              "      <td>0.0</td>\n",
              "    </tr>\n",
              "    <tr>\n",
              "      <th>4</th>\n",
              "      <td>2004</td>\n",
              "      <td>1.0</td>\n",
              "    </tr>\n",
              "    <tr>\n",
              "      <th>...</th>\n",
              "      <td>...</td>\n",
              "      <td>...</td>\n",
              "    </tr>\n",
              "    <tr>\n",
              "      <th>985</th>\n",
              "      <td>2985</td>\n",
              "      <td>0.0</td>\n",
              "    </tr>\n",
              "    <tr>\n",
              "      <th>986</th>\n",
              "      <td>2986</td>\n",
              "      <td>1.0</td>\n",
              "    </tr>\n",
              "    <tr>\n",
              "      <th>987</th>\n",
              "      <td>2987</td>\n",
              "      <td>0.0</td>\n",
              "    </tr>\n",
              "    <tr>\n",
              "      <th>988</th>\n",
              "      <td>2988</td>\n",
              "      <td>0.0</td>\n",
              "    </tr>\n",
              "    <tr>\n",
              "      <th>989</th>\n",
              "      <td>2989</td>\n",
              "      <td>1.0</td>\n",
              "    </tr>\n",
              "  </tbody>\n",
              "</table>\n",
              "<p>990 rows × 2 columns</p>\n",
              "</div>"
            ],
            "text/plain": [
              "     id_pasien  stroke\n",
              "0         2000     0.0\n",
              "1         2001     1.0\n",
              "2         2002     0.0\n",
              "3         2003     0.0\n",
              "4         2004     1.0\n",
              "..         ...     ...\n",
              "985       2985     0.0\n",
              "986       2986     1.0\n",
              "987       2987     0.0\n",
              "988       2988     0.0\n",
              "989       2989     1.0\n",
              "\n",
              "[990 rows x 2 columns]"
            ]
          },
          "metadata": {
            "tags": []
          },
          "execution_count": 332
        }
      ]
    },
    {
      "cell_type": "code",
      "metadata": {
        "colab": {
          "base_uri": "https://localhost:8080/"
        },
        "id": "heA6QkAySLXX",
        "outputId": "595b4d8e-c8b7-4b41-8032-2f25113d76ed"
      },
      "source": [
        "Ans"
      ],
      "execution_count": 322,
      "outputs": [
        {
          "output_type": "execute_result",
          "data": {
            "text/plain": [
              "array([0., 1., 0., 0., 1., 0., 0., 1., 1., 1., 0., 1., 1., 1., 0., 0., 0.,\n",
              "       0., 1., 0., 1., 0., 0., 0., 1., 1., 1., 1., 0., 1., 1., 1., 0., 0.,\n",
              "       1., 1., 1., 0., 0., 0., 0., 0., 1., 0., 1., 0., 1., 0., 0., 1., 0.,\n",
              "       1., 0., 1., 0., 0., 0., 0., 1., 0., 1., 0., 0., 1., 0., 0., 0., 0.,\n",
              "       1., 1., 1., 0., 0., 0., 1., 1., 0., 1., 0., 0., 0., 1., 0., 0., 0.,\n",
              "       0., 0., 0., 0., 1., 1., 0., 0., 0., 1., 0., 1., 0., 0., 1., 1., 0.,\n",
              "       0., 0., 0., 1., 1., 0., 1., 0., 0., 1., 1., 0., 0., 1., 0., 0., 0.,\n",
              "       0., 0., 1., 1., 1., 1., 1., 0., 1., 0., 1., 0., 1., 1., 1., 0., 1.,\n",
              "       0., 0., 0., 0., 1., 0., 0., 0., 0., 0., 0., 1., 1., 0., 0., 1., 1.,\n",
              "       0., 0., 0., 1., 0., 0., 1., 1., 0., 0., 1., 0., 0., 0., 0., 0., 1.,\n",
              "       0., 0., 0., 0., 1., 0., 1., 0., 0., 0., 0., 0., 1., 0., 0., 0., 0.,\n",
              "       1., 0., 0., 1., 0., 0., 0., 0., 1., 1., 0., 0., 0., 1., 1., 0., 0.,\n",
              "       0., 0., 0., 0., 0., 0., 0., 1., 0., 1., 0., 0., 0., 1., 0., 0., 0.,\n",
              "       0., 1., 1., 1., 0., 1., 0., 0., 0., 0., 0., 0., 1., 1., 0., 1., 1.,\n",
              "       0., 1., 1., 1., 0., 0., 1., 1., 1., 1., 1., 1., 0., 0., 0., 0., 1.,\n",
              "       0., 0., 0., 1., 1., 1., 1., 0., 0., 1., 1., 0., 1., 1., 0., 1., 1.,\n",
              "       0., 1., 0., 0., 1., 1., 0., 1., 1., 0., 0., 1., 1., 0., 0., 0., 0.,\n",
              "       0., 0., 1., 0., 0., 0., 1., 1., 0., 0., 1., 0., 1., 1., 0., 0., 0.,\n",
              "       0., 0., 0., 0., 0., 0., 1., 1., 1., 0., 1., 1., 0., 1., 0., 0., 0.,\n",
              "       1., 0., 0., 0., 0., 1., 1., 1., 0., 0., 0., 0., 1., 0., 1., 0., 1.,\n",
              "       0., 1., 1., 0., 1., 0., 1., 0., 0., 0., 0., 1., 1., 1., 0., 0., 0.,\n",
              "       0., 0., 0., 0., 1., 1., 1., 0., 0., 0., 0., 1., 1., 0., 0., 0., 0.,\n",
              "       0., 0., 0., 0., 0., 1., 0., 0., 1., 0., 0., 1., 1., 0., 0., 1., 1.,\n",
              "       1., 0., 1., 1., 0., 1., 1., 0., 0., 0., 1., 1., 0., 0., 0., 0., 0.,\n",
              "       1., 1., 0., 1., 0., 0., 1., 0., 0., 0., 1., 1., 1., 1., 0., 1., 1.,\n",
              "       0., 1., 0., 1., 0., 1., 1., 0., 0., 1., 0., 0., 1., 0., 0., 1., 1.,\n",
              "       0., 0., 1., 0., 0., 0., 1., 0., 0., 0., 1., 0., 0., 1., 1., 0., 0.,\n",
              "       0., 1., 1., 0., 0., 0., 1., 0., 0., 1., 0., 1., 1., 1., 1., 0., 0.,\n",
              "       1., 1., 0., 0., 1., 0., 1., 1., 1., 0., 0., 1., 0., 1., 0., 0., 1.,\n",
              "       0., 0., 0., 0., 0., 0., 1., 0., 0., 0., 1., 0., 0., 1., 1., 0., 1.,\n",
              "       1., 1., 0., 1., 0., 1., 0., 0., 0., 1., 1., 0., 1., 1., 0., 0., 0.,\n",
              "       0., 0., 1., 0., 0., 0., 0., 1., 1., 0., 1., 1., 0., 0., 0., 0., 1.,\n",
              "       1., 0., 0., 1., 1., 0., 0., 1., 0., 1., 0., 0., 0., 0., 0., 0., 1.,\n",
              "       0., 0., 0., 0., 0., 0., 0., 1., 1., 0., 1., 0., 1., 0., 0., 0., 0.,\n",
              "       0., 0., 1., 0., 1., 0., 1., 0., 1., 1., 0., 1., 0., 1., 1., 1., 0.,\n",
              "       0., 0., 0., 0., 0., 0., 0., 0., 0., 1., 1., 1., 0., 0., 1., 0., 0.,\n",
              "       1., 0., 0., 1., 0., 1., 1., 0., 1., 1., 1., 0., 0., 1., 0., 0., 0.,\n",
              "       1., 0., 1., 1., 0., 0., 0., 0., 0., 1., 0., 0., 0., 0., 0., 0., 0.,\n",
              "       0., 0., 0., 0., 0., 1., 1., 0., 0., 0., 0., 0., 0., 1., 1., 0., 0.,\n",
              "       1., 1., 0., 1., 0., 1., 0., 0., 0., 1., 1., 1., 0., 1., 0., 1., 0.,\n",
              "       0., 0., 1., 1., 1., 0., 0., 0., 1., 1., 0., 0., 1., 0., 1., 0., 0.,\n",
              "       0., 1., 1., 0., 0., 1., 0., 1., 0., 1., 1., 1., 1., 1., 0., 0., 1.,\n",
              "       0., 0., 0., 1., 0., 1., 0., 1., 0., 1., 1., 0., 0., 0., 0., 1., 0.,\n",
              "       0., 0., 0., 1., 1., 0., 0., 0., 0., 1., 0., 0., 0., 0., 0., 1., 0.,\n",
              "       1., 1., 0., 1., 1., 0., 0., 0., 0., 0., 1., 0., 0., 1., 0., 0., 0.,\n",
              "       0., 1., 0., 1., 1., 1., 0., 1., 0., 0., 0., 1., 0., 1., 0., 0., 1.,\n",
              "       0., 0., 0., 0., 0., 0., 1., 1., 0., 1., 0., 0., 0., 0., 1., 0., 1.,\n",
              "       1., 0., 1., 1., 1., 1., 1., 1., 0., 0., 1., 1., 0., 0., 0., 1., 0.,\n",
              "       1., 0., 0., 0., 0., 0., 0., 1., 1., 0., 1., 0., 0., 0., 1., 0., 0.,\n",
              "       1., 1., 0., 0., 0., 1., 1., 0., 0., 0., 0., 0., 0., 1., 0., 0., 0.,\n",
              "       1., 0., 0., 1., 0., 1., 1., 1., 0., 0., 0., 0., 0., 1., 1., 1., 1.,\n",
              "       1., 0., 0., 0., 1., 1., 1., 1., 1., 0., 0., 1., 1., 0., 1., 0., 0.,\n",
              "       0., 0., 1., 0., 0., 0., 0., 0., 0., 1., 0., 1., 0., 0., 1., 0., 0.,\n",
              "       0., 0., 0., 0., 1., 1., 1., 1., 0., 0., 0., 1., 0., 0., 0., 1., 1.,\n",
              "       0., 0., 1., 0., 0., 1., 1., 0., 0., 1., 1., 0., 0., 0., 1., 1., 1.,\n",
              "       1., 0., 0., 0., 1., 1., 0., 0., 0., 1., 1., 1., 0., 0., 0., 0., 0.,\n",
              "       1., 1., 0., 0., 0., 1., 1., 1., 0., 0., 0., 0., 0., 0., 0., 1., 0.,\n",
              "       1., 0., 0., 0., 1., 1., 0., 0., 1., 0., 0., 0., 0., 1., 1., 0., 1.,\n",
              "       1., 0., 0., 1.])"
            ]
          },
          "metadata": {
            "tags": []
          },
          "execution_count": 322
        }
      ]
    },
    {
      "cell_type": "code",
      "metadata": {
        "colab": {
          "base_uri": "https://localhost:8080/"
        },
        "id": "Nakmseb7QtBP",
        "outputId": "92cee267-9fc7-4e3b-9569-16e1322c45e8"
      },
      "source": [
        "Ans"
      ],
      "execution_count": 286,
      "outputs": [
        {
          "output_type": "execute_result",
          "data": {
            "text/plain": [
              "array([0., 1., 0., 0., 1., 0., 0., 1., 1., 1., 0., 1., 1., 1., 0., 0., 0.,\n",
              "       0., 1., 0., 1., 0., 0., 0., 1., 1., 1., 1., 0., 0., 1., 1., 0., 0.,\n",
              "       1., 1., 1., 0., 0., 0., 0., 0., 1., 0., 1., 0., 1., 1., 0., 1., 0.,\n",
              "       1., 0., 1., 0., 0., 0., 0., 1., 0., 1., 0., 0., 1., 0., 0., 0., 0.,\n",
              "       1., 1., 1., 0., 0., 0., 1., 1., 0., 1., 0., 0., 0., 1., 0., 0., 1.,\n",
              "       0., 0., 0., 0., 1., 1., 0., 0., 0., 1., 0., 1., 0., 0., 1., 1., 0.,\n",
              "       0., 0., 0., 1., 1., 0., 1., 0., 0., 1., 0., 0., 0., 1., 0., 0., 0.,\n",
              "       0., 0., 1., 1., 1., 1., 1., 0., 1., 0., 1., 0., 1., 1., 1., 0., 1.,\n",
              "       0., 0., 0., 0., 1., 1., 0., 0., 0., 0., 0., 0., 1., 1., 1., 1., 1.,\n",
              "       0., 0., 0., 1., 0., 0., 1., 1., 0., 0., 1., 0., 0., 0., 1., 0., 1.,\n",
              "       0., 0., 0., 0., 1., 0., 1., 0., 0., 0., 0., 0., 1., 0., 0., 0., 0.,\n",
              "       1., 0., 0., 1., 0., 0., 0., 0., 1., 1., 0., 0., 0., 1., 1., 0., 0.,\n",
              "       0., 0., 0., 0., 0., 0., 0., 1., 0., 1., 0., 0., 1., 1., 0., 0., 0.,\n",
              "       0., 1., 1., 1., 0., 1., 0., 0., 0., 0., 0., 0., 1., 1., 0., 1., 1.,\n",
              "       0., 1., 1., 1., 0., 0., 1., 1., 1., 1., 1., 1., 0., 0., 0., 0., 1.,\n",
              "       0., 0., 0., 1., 1., 1., 1., 1., 0., 1., 1., 0., 0., 1., 0., 1., 1.,\n",
              "       0., 1., 0., 0., 0., 1., 0., 1., 1., 0., 0., 1., 1., 0., 0., 0., 0.,\n",
              "       0., 0., 1., 0., 0., 0., 1., 1., 0., 0., 1., 0., 0., 1., 0., 0., 0.,\n",
              "       0., 0., 0., 0., 0., 0., 1., 1., 1., 0., 1., 1., 0., 1., 0., 0., 1.,\n",
              "       1., 0., 0., 0., 0., 1., 1., 1., 0., 0., 0., 0., 1., 0., 1., 0., 1.,\n",
              "       1., 1., 1., 0., 1., 0., 1., 0., 0., 0., 0., 1., 1., 1., 0., 0., 1.,\n",
              "       1., 0., 0., 0., 1., 1., 1., 0., 0., 0., 0., 1., 1., 0., 0., 0., 0.,\n",
              "       0., 0., 0., 0., 0., 1., 0., 0., 1., 0., 0., 1., 1., 0., 0., 1., 1.,\n",
              "       1., 0., 0., 1., 0., 1., 1., 0., 0., 0., 1., 1., 0., 0., 0., 0., 0.,\n",
              "       1., 1., 0., 1., 0., 0., 1., 0., 0., 0., 1., 1., 1., 1., 0., 1., 1.,\n",
              "       0., 1., 0., 1., 0., 1., 1., 0., 0., 1., 1., 0., 1., 0., 0., 1., 1.,\n",
              "       0., 0., 1., 0., 0., 0., 1., 0., 0., 0., 1., 0., 0., 1., 1., 0., 0.,\n",
              "       0., 1., 1., 0., 0., 0., 1., 0., 0., 1., 0., 1., 1., 1., 1., 0., 0.,\n",
              "       1., 1., 0., 0., 1., 0., 1., 0., 1., 0., 0., 1., 0., 1., 0., 0., 0.,\n",
              "       0., 0., 0., 0., 0., 0., 1., 0., 0., 0., 1., 0., 0., 1., 1., 0., 1.,\n",
              "       1., 1., 0., 1., 1., 1., 0., 0., 0., 1., 1., 0., 1., 1., 0., 0., 0.,\n",
              "       0., 0., 0., 0., 0., 0., 0., 1., 1., 0., 1., 1., 0., 1., 0., 0., 1.,\n",
              "       1., 0., 0., 1., 1., 0., 0., 1., 0., 1., 0., 0., 0., 0., 0., 0., 0.,\n",
              "       0., 0., 0., 0., 0., 0., 0., 0., 1., 0., 1., 0., 1., 0., 0., 0., 0.,\n",
              "       0., 0., 1., 0., 1., 0., 1., 0., 1., 1., 0., 0., 0., 1., 1., 1., 0.,\n",
              "       0., 0., 0., 0., 0., 0., 0., 0., 0., 1., 1., 1., 0., 0., 1., 0., 0.,\n",
              "       1., 0., 0., 1., 0., 1., 1., 0., 1., 1., 0., 0., 0., 1., 0., 1., 0.,\n",
              "       1., 0., 1., 1., 0., 0., 0., 1., 0., 1., 0., 0., 0., 0., 0., 1., 0.,\n",
              "       0., 0., 0., 0., 0., 1., 1., 0., 0., 0., 0., 0., 0., 0., 1., 0., 0.,\n",
              "       1., 1., 0., 1., 0., 1., 0., 0., 0., 1., 1., 1., 0., 1., 0., 1., 0.,\n",
              "       0., 0., 0., 1., 1., 0., 0., 0., 1., 1., 0., 0., 1., 0., 1., 0., 0.,\n",
              "       0., 1., 1., 0., 0., 1., 0., 1., 0., 1., 1., 1., 1., 1., 0., 0., 1.,\n",
              "       0., 0., 0., 1., 0., 1., 0., 1., 0., 1., 1., 0., 0., 0., 0., 1., 0.,\n",
              "       0., 0., 0., 1., 1., 0., 1., 0., 0., 1., 0., 0., 0., 0., 0., 1., 0.,\n",
              "       1., 0., 1., 1., 1., 1., 0., 0., 0., 0., 1., 0., 0., 1., 0., 0., 0.,\n",
              "       0., 1., 0., 1., 0., 1., 0., 1., 0., 0., 0., 0., 0., 0., 0., 0., 1.,\n",
              "       0., 0., 0., 0., 0., 0., 1., 1., 1., 1., 0., 0., 1., 0., 1., 0., 1.,\n",
              "       0., 0., 1., 1., 1., 1., 1., 1., 0., 1., 1., 1., 0., 1., 0., 1., 0.,\n",
              "       1., 0., 0., 0., 0., 0., 0., 0., 1., 0., 1., 0., 0., 0., 1., 0., 0.,\n",
              "       1., 0., 0., 0., 0., 1., 1., 0., 0., 0., 0., 0., 0., 1., 0., 0., 0.,\n",
              "       1., 0., 0., 0., 0., 1., 1., 1., 0., 0., 0., 0., 0., 1., 1., 1., 1.,\n",
              "       1., 0., 0., 0., 1., 1., 1., 1., 1., 0., 0., 0., 1., 0., 1., 0., 0.,\n",
              "       0., 0., 1., 0., 0., 1., 0., 0., 0., 1., 0., 1., 0., 0., 1., 0., 0.,\n",
              "       0., 0., 0., 0., 1., 1., 1., 1., 0., 0., 0., 1., 0., 0., 0., 1., 1.,\n",
              "       0., 0., 1., 0., 0., 1., 1., 0., 0., 1., 0., 0., 1., 0., 1., 1., 1.,\n",
              "       1., 1., 0., 0., 1., 1., 0., 0., 0., 1., 1., 1., 0., 0., 0., 0., 0.,\n",
              "       1., 1., 1., 0., 0., 1., 1., 1., 0., 0., 0., 0., 0., 0., 0., 1., 0.,\n",
              "       1., 0., 0., 0., 1., 1., 1., 0., 1., 0., 0., 0., 0., 1., 1., 0., 0.,\n",
              "       1., 0., 0., 1.])"
            ]
          },
          "metadata": {
            "tags": []
          },
          "execution_count": 286
        }
      ]
    }
  ]
}